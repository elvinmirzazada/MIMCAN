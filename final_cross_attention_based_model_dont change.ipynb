{
 "cells": [
  {
   "cell_type": "markdown",
   "metadata": {},
   "source": [
    "### Importing Python Modules"
   ]
  },
  {
   "cell_type": "code",
   "execution_count": null,
   "metadata": {},
   "outputs": [],
   "source": [
    "!pip install torchvision, transformers"
   ]
  },
  {
   "cell_type": "code",
   "execution_count": 1,
   "metadata": {},
   "outputs": [],
   "source": [
    "import os\n",
    "import pandas as pd\n",
    "import numpy as np\n",
    "import seaborn as sns\n",
    "import matplotlib.pyplot as plt\n",
    "from PIL import Image, ImageFile, UnidentifiedImageError\n",
    "from sklearn.model_selection import train_test_split\n",
    "from sklearn.utils import shuffle\n",
    "from sklearn import metrics\n",
    "from sklearn.metrics import classification_report, confusion_matrix, cohen_kappa_score\n",
    "from textwrap import wrap\n",
    "\n",
    "import torch\n",
    "from torch import nn, optim\n",
    "from torch.nn import functional as F\n",
    "from torchvision import datasets, models, transforms\n",
    "from torch.utils.data import Dataset, DataLoader\n",
    "import torch.optim.lr_scheduler as lr_scheduler\n",
    "\n",
    "from transformers import AdamW, BertModel, BertTokenizer, DistilBertModel\n",
    "\n",
    "from tqdm.notebook import tqdm\n",
    "from collections import defaultdict\n",
    "\n",
    "import warnings\n",
    "warnings.filterwarnings(\"ignore\")\n"
   ]
  },
  {
   "cell_type": "markdown",
   "metadata": {},
   "source": [
    "### Reading the dataset"
   ]
  },
  {
   "cell_type": "code",
   "execution_count": 2,
   "metadata": {},
   "outputs": [],
   "source": [
    "gossicop_fake = pd.read_csv('new_data/gossipcop_fake.csv')\n",
    "gossicop_real = pd.read_csv('new_data/gossipcop_real.csv')\n",
    "politifact_fake = pd.read_csv('new_data/politifact_fake.csv')\n",
    "politifact_real = pd.read_csv('new_data/politifact_real.csv')"
   ]
  },
  {
   "cell_type": "markdown",
   "metadata": {},
   "source": [
    "#### Adding labels to the dataset"
   ]
  },
  {
   "cell_type": "code",
   "execution_count": 3,
   "metadata": {},
   "outputs": [],
   "source": [
    "gossicop_fake['labels']= 0\n",
    "gossicop_real['labels']= 1\n",
    "\n",
    "politifact_fake['labels']= 0\n",
    "politifact_real['labels']= 1"
   ]
  },
  {
   "cell_type": "markdown",
   "metadata": {},
   "source": [
    "#### Concatenating the dataset (real and fake) and shuffling the dataset"
   ]
  },
  {
   "cell_type": "code",
   "execution_count": 4,
   "metadata": {},
   "outputs": [],
   "source": [
    "df_gossip = pd.concat([gossicop_real, gossicop_fake], ignore_index=True)\n",
    "df_gossip = shuffle(df_gossip)\n",
    "\n",
    "df_politifact = pd.concat([politifact_real, politifact_fake], ignore_index=True)\n",
    "df_politifact = shuffle(df_politifact)"
   ]
  },
  {
   "cell_type": "code",
   "execution_count": 5,
   "metadata": {},
   "outputs": [
    {
     "data": {
      "text/plain": [
       "(Index(['id', 'news_url', 'title', 'tweet_ids', 'labels'], dtype='object'),\n",
       " Index(['id', 'news_url', 'title', 'tweet_ids', 'labels'], dtype='object'))"
      ]
     },
     "execution_count": 5,
     "metadata": {},
     "output_type": "execute_result"
    }
   ],
   "source": [
    "df_gossip.columns, df_politifact.columns"
   ]
  },
  {
   "cell_type": "code",
   "execution_count": 6,
   "metadata": {},
   "outputs": [
    {
     "data": {
      "text/plain": [
       "0"
      ]
     },
     "execution_count": 6,
     "metadata": {},
     "output_type": "execute_result"
    }
   ],
   "source": [
    "df_gossip.title.isnull().sum()"
   ]
  },
  {
   "cell_type": "code",
   "execution_count": 7,
   "metadata": {},
   "outputs": [
    {
     "data": {
      "text/plain": [
       "0"
      ]
     },
     "execution_count": 7,
     "metadata": {},
     "output_type": "execute_result"
    }
   ],
   "source": [
    "df_politifact.title.isnull().sum()"
   ]
  },
  {
   "cell_type": "code",
   "execution_count": 8,
   "metadata": {},
   "outputs": [
    {
     "data": {
      "text/html": [
       "<div>\n",
       "<style scoped>\n",
       "    .dataframe tbody tr th:only-of-type {\n",
       "        vertical-align: middle;\n",
       "    }\n",
       "\n",
       "    .dataframe tbody tr th {\n",
       "        vertical-align: top;\n",
       "    }\n",
       "\n",
       "    .dataframe thead th {\n",
       "        text-align: right;\n",
       "    }\n",
       "</style>\n",
       "<table border=\"1\" class=\"dataframe\">\n",
       "  <thead>\n",
       "    <tr style=\"text-align: right;\">\n",
       "      <th></th>\n",
       "      <th>id</th>\n",
       "      <th>news_url</th>\n",
       "      <th>title</th>\n",
       "      <th>tweet_ids</th>\n",
       "      <th>labels</th>\n",
       "    </tr>\n",
       "  </thead>\n",
       "  <tbody>\n",
       "    <tr>\n",
       "      <th>17117</th>\n",
       "      <td>gossipcop-9755892564</td>\n",
       "      <td>www.etonline.com/media/videos/kim-kardashian-r...</td>\n",
       "      <td>Kim Kardashian Reveals Her Limit on Kids With ...</td>\n",
       "      <td>974158416703766528\\t1003401538864369664</td>\n",
       "      <td>0</td>\n",
       "    </tr>\n",
       "    <tr>\n",
       "      <th>17258</th>\n",
       "      <td>gossipcop-29199720</td>\n",
       "      <td>NaN</td>\n",
       "      <td>Miley Cyrus Liam Hemsworth Honeymoon</td>\n",
       "      <td>167704576621953024\\t173645082740793344\\t176788...</td>\n",
       "      <td>0</td>\n",
       "    </tr>\n",
       "    <tr>\n",
       "      <th>21857</th>\n",
       "      <td>gossipcop-3172607624</td>\n",
       "      <td>www.imdb.com/news/ni61578932</td>\n",
       "      <td>Keith Urban Upset About Nicole Kidman, Colin F...</td>\n",
       "      <td>915635939623493637\\t915642136888008704\\t915646...</td>\n",
       "      <td>0</td>\n",
       "    </tr>\n",
       "    <tr>\n",
       "      <th>5542</th>\n",
       "      <td>gossipcop-885290</td>\n",
       "      <td>https://www.nickiswift.com/89669/aaron-carter-...</td>\n",
       "      <td>Aaron Carter leaves rehab early</td>\n",
       "      <td>916304045433860097\\t916304110101680128\\t916305...</td>\n",
       "      <td>1</td>\n",
       "    </tr>\n",
       "    <tr>\n",
       "      <th>822</th>\n",
       "      <td>gossipcop-844633</td>\n",
       "      <td>http://www.newslocker.com/en-us/news/celebrity...</td>\n",
       "      <td>Yikes! Kyle Is Furious After He Loses His Movi...</td>\n",
       "      <td>855786248132276225\\t855786718808612864\\t855786...</td>\n",
       "      <td>1</td>\n",
       "    </tr>\n",
       "  </tbody>\n",
       "</table>\n",
       "</div>"
      ],
      "text/plain": [
       "                         id  \\\n",
       "17117  gossipcop-9755892564   \n",
       "17258    gossipcop-29199720   \n",
       "21857  gossipcop-3172607624   \n",
       "5542       gossipcop-885290   \n",
       "822        gossipcop-844633   \n",
       "\n",
       "                                                news_url  \\\n",
       "17117  www.etonline.com/media/videos/kim-kardashian-r...   \n",
       "17258                                                NaN   \n",
       "21857                       www.imdb.com/news/ni61578932   \n",
       "5542   https://www.nickiswift.com/89669/aaron-carter-...   \n",
       "822    http://www.newslocker.com/en-us/news/celebrity...   \n",
       "\n",
       "                                                   title  \\\n",
       "17117  Kim Kardashian Reveals Her Limit on Kids With ...   \n",
       "17258               Miley Cyrus Liam Hemsworth Honeymoon   \n",
       "21857  Keith Urban Upset About Nicole Kidman, Colin F...   \n",
       "5542                     Aaron Carter leaves rehab early   \n",
       "822    Yikes! Kyle Is Furious After He Loses His Movi...   \n",
       "\n",
       "                                               tweet_ids  labels  \n",
       "17117            974158416703766528\\t1003401538864369664       0  \n",
       "17258  167704576621953024\\t173645082740793344\\t176788...       0  \n",
       "21857  915635939623493637\\t915642136888008704\\t915646...       0  \n",
       "5542   916304045433860097\\t916304110101680128\\t916305...       1  \n",
       "822    855786248132276225\\t855786718808612864\\t855786...       1  "
      ]
     },
     "execution_count": 8,
     "metadata": {},
     "output_type": "execute_result"
    }
   ],
   "source": [
    "df_gossip.head()"
   ]
  },
  {
   "cell_type": "code",
   "execution_count": 9,
   "metadata": {},
   "outputs": [
    {
     "data": {
      "text/html": [
       "<div>\n",
       "<style scoped>\n",
       "    .dataframe tbody tr th:only-of-type {\n",
       "        vertical-align: middle;\n",
       "    }\n",
       "\n",
       "    .dataframe tbody tr th {\n",
       "        vertical-align: top;\n",
       "    }\n",
       "\n",
       "    .dataframe thead th {\n",
       "        text-align: right;\n",
       "    }\n",
       "</style>\n",
       "<table border=\"1\" class=\"dataframe\">\n",
       "  <thead>\n",
       "    <tr style=\"text-align: right;\">\n",
       "      <th></th>\n",
       "      <th>id</th>\n",
       "      <th>news_url</th>\n",
       "      <th>title</th>\n",
       "      <th>tweet_ids</th>\n",
       "      <th>labels</th>\n",
       "    </tr>\n",
       "  </thead>\n",
       "  <tbody>\n",
       "    <tr>\n",
       "      <th>528</th>\n",
       "      <td>politifact4433</td>\n",
       "      <td>http://www.fedupthebook.com/</td>\n",
       "      <td>Fed Up! Our Fight to Save America from Washing...</td>\n",
       "      <td>24006328852\\t24060358023\\t29526066043\\t2954558...</td>\n",
       "      <td>1</td>\n",
       "    </tr>\n",
       "    <tr>\n",
       "      <th>555</th>\n",
       "      <td>politifact9438</td>\n",
       "      <td>https://web.archive.org/web/20130314224614/htt...</td>\n",
       "      <td>Everything you need to know about the drone de...</td>\n",
       "      <td>260532526676848641\\t310028760328073216\\t310029...</td>\n",
       "      <td>1</td>\n",
       "    </tr>\n",
       "    <tr>\n",
       "      <th>935</th>\n",
       "      <td>politifact13751</td>\n",
       "      <td>https://web.archive.org/web/20170310140734/htt...</td>\n",
       "      <td>BREAKING: Trump Caught INVESTING in Dakota Pip...</td>\n",
       "      <td>829406690772660225\\t829424287081758722\\t829433...</td>\n",
       "      <td>0</td>\n",
       "    </tr>\n",
       "    <tr>\n",
       "      <th>803</th>\n",
       "      <td>politifact15512</td>\n",
       "      <td>http://www.thecommonsenseshow.com/pope-calls-f...</td>\n",
       "      <td>Pope Calls for World Wide Gun Confiscation Exc...</td>\n",
       "      <td>992530484008706048\\t992530613969223680\\t992532...</td>\n",
       "      <td>0</td>\n",
       "    </tr>\n",
       "    <tr>\n",
       "      <th>880</th>\n",
       "      <td>politifact14436</td>\n",
       "      <td>allnews4us.com/politics/whoopi-goldberg-humili...</td>\n",
       "      <td>Whoopi Goldberg Humiliated, Handcuffed And Dra...</td>\n",
       "      <td>876291648497627140\\t876342825834696705\\t876368...</td>\n",
       "      <td>0</td>\n",
       "    </tr>\n",
       "  </tbody>\n",
       "</table>\n",
       "</div>"
      ],
      "text/plain": [
       "                  id                                           news_url  \\\n",
       "528   politifact4433                       http://www.fedupthebook.com/   \n",
       "555   politifact9438  https://web.archive.org/web/20130314224614/htt...   \n",
       "935  politifact13751  https://web.archive.org/web/20170310140734/htt...   \n",
       "803  politifact15512  http://www.thecommonsenseshow.com/pope-calls-f...   \n",
       "880  politifact14436  allnews4us.com/politics/whoopi-goldberg-humili...   \n",
       "\n",
       "                                                 title  \\\n",
       "528  Fed Up! Our Fight to Save America from Washing...   \n",
       "555  Everything you need to know about the drone de...   \n",
       "935  BREAKING: Trump Caught INVESTING in Dakota Pip...   \n",
       "803  Pope Calls for World Wide Gun Confiscation Exc...   \n",
       "880  Whoopi Goldberg Humiliated, Handcuffed And Dra...   \n",
       "\n",
       "                                             tweet_ids  labels  \n",
       "528  24006328852\\t24060358023\\t29526066043\\t2954558...       1  \n",
       "555  260532526676848641\\t310028760328073216\\t310029...       1  \n",
       "935  829406690772660225\\t829424287081758722\\t829433...       0  \n",
       "803  992530484008706048\\t992530613969223680\\t992532...       0  \n",
       "880  876291648497627140\\t876342825834696705\\t876368...       0  "
      ]
     },
     "execution_count": 9,
     "metadata": {},
     "output_type": "execute_result"
    }
   ],
   "source": [
    "df_politifact.head()"
   ]
  },
  {
   "cell_type": "code",
   "execution_count": 10,
   "metadata": {},
   "outputs": [
    {
     "data": {
      "image/png": "[encoded data removed]",
      "text/plain": [
       "<Figure size 432x288 with 1 Axes>"
      ]
     },
     "metadata": {
      "needs_background": "light"
     },
     "output_type": "display_data"
    }
   ],
   "source": [
    "# Get the class distribution\n",
    "class_distribution = df_gossip['labels'].value_counts()\n",
    "\n",
    "# Plot the class distribution\n",
    "class_distribution.plot(kind='bar')\n",
    "plt.xlabel('Class')\n",
    "plt.ylabel('Frequency')\n",
    "plt.title('Gossicop Class Distribution')\n",
    "plt.show()"
   ]
  },
  {
   "cell_type": "code",
   "execution_count": 11,
   "metadata": {},
   "outputs": [
    {
     "data": {
      "image/png": "[encoded data removed]",
      "text/plain": [
       "<Figure size 432x288 with 1 Axes>"
      ]
     },
     "metadata": {
      "needs_background": "light"
     },
     "output_type": "display_data"
    }
   ],
   "source": [
    "# Get the class distribution\n",
    "class_distribution = df_politifact['labels'].value_counts()\n",
    "\n",
    "# Plot the class distribution\n",
    "class_distribution.plot(kind='bar')\n",
    "plt.xlabel('Class')\n",
    "plt.ylabel('Frequency')\n",
    "plt.title('Politificat Class Distribution')\n",
    "plt.show()"
   ]
  },
  {
   "cell_type": "code",
   "execution_count": 12,
   "metadata": {},
   "outputs": [
    {
     "data": {
      "text/plain": [
       "(22140, 1056)"
      ]
     },
     "execution_count": 12,
     "metadata": {},
     "output_type": "execute_result"
    }
   ],
   "source": [
    "len(df_gossip), len(df_politifact)"
   ]
  },
  {
   "cell_type": "markdown",
   "metadata": {},
   "source": [
    "### To Choose the dataset to use (Images and CSV)"
   ]
  },
  {
   "cell_type": "markdown",
   "metadata": {},
   "source": [
    "### 1. To Run on the politifact Dataset, run the following cell"
   ]
  },
  {
   "cell_type": "code",
   "execution_count": 13,
   "metadata": {},
   "outputs": [],
   "source": [
    "df = df_politifact.copy()\n",
    "image_path = 'images/politifact/'"
   ]
  },
  {
   "cell_type": "markdown",
   "metadata": {},
   "source": [
    "### 2. To Run on the gossip dataset, run the following cell"
   ]
  },
  {
   "cell_type": "code",
   "execution_count": 14,
   "metadata": {},
   "outputs": [],
   "source": [
    "df = df_gossip.copy()\n",
    "image_path = 'images/gossicop/'"
   ]
  },
  {
   "cell_type": "markdown",
   "metadata": {},
   "source": [
    "## Split the data into Train, Test and Validation"
   ]
  },
  {
   "cell_type": "code",
   "execution_count": 15,
   "metadata": {},
   "outputs": [
    {
     "name": "stdout",
     "output_type": "stream",
     "text": [
      "13284 4428 4428\n"
     ]
    }
   ],
   "source": [
    "# Split the data into train (60%), val (20%), and test (20%) sets\n",
    "df_train, temp_df = train_test_split(df, test_size=0.4, random_state=42)\n",
    "df_val, df_test = train_test_split(temp_df, test_size=0.5, random_state=42)\n",
    "\n",
    "# Check the length of each set\n",
    "print(len(df_train), len(df_val), len(df_test))\n"
   ]
  },
  {
   "cell_type": "code",
   "execution_count": 16,
   "metadata": {},
   "outputs": [
    {
     "name": "stdout",
     "output_type": "stream",
     "text": [
      "15498 3321 3321\n"
     ]
    }
   ],
   "source": [
    "# Split the data into train (70%), val (15%), and test (15%) sets\n",
    "df_train, temp_df = train_test_split(df, test_size=0.3, random_state=42)\n",
    "df_val, df_test = train_test_split(temp_df, test_size=0.5, random_state=42)\n",
    "\n",
    "# Check the length of each set\n",
    "print(len(df_train), len(df_val), len(df_test))"
   ]
  },
  {
   "cell_type": "markdown",
   "metadata": {},
   "source": [
    "### Loading Pretrained Transformer Models and Resnet"
   ]
  },
  {
   "cell_type": "code",
   "execution_count": 17,
   "metadata": {},
   "outputs": [
    {
     "name": "stderr",
     "output_type": "stream",
     "text": [
      "Some weights of the model checkpoint at bert-base-uncased were not used when initializing BertModel: ['cls.seq_relationship.weight', 'cls.predictions.transform.LayerNorm.bias', 'cls.predictions.transform.dense.bias', 'cls.predictions.transform.dense.weight', 'cls.predictions.decoder.weight', 'cls.seq_relationship.bias', 'cls.predictions.transform.LayerNorm.weight', 'cls.predictions.bias']\n",
      "- This IS expected if you are initializing BertModel from the checkpoint of a model trained on another task or with another architecture (e.g. initializing a BertForSequenceClassification model from a BertForPreTraining model).\n",
      "- This IS NOT expected if you are initializing BertModel from the checkpoint of a model that you expect to be exactly identical (initializing a BertForSequenceClassification model from a BertForSequenceClassification model).\n"
     ]
    }
   ],
   "source": [
    "# Load pre-trained models\n",
    "resnet = models.resnet18(pretrained=True) # resnet18, resnet34\n",
    "resnet = nn.Sequential(*list(resnet.children())[:-1])  # Remove the last layer to get embeddings\n",
    "bert = BertModel.from_pretrained(\"bert-base-uncased\")\n",
    "tokenizer = BertTokenizer.from_pretrained(\"bert-base-uncased\")\n"
   ]
  },
  {
   "cell_type": "markdown",
   "metadata": {},
   "source": [
    "### Assigning device to train the model"
   ]
  },
  {
   "cell_type": "code",
   "execution_count": 18,
   "metadata": {},
   "outputs": [
    {
     "name": "stdout",
     "output_type": "stream",
     "text": [
      "CPU is allocated.\n"
     ]
    }
   ],
   "source": [
    "device = torch.device(\"cuda:0\" if torch.cuda.is_available() else \"cpu\")\n",
    "if str(device) == \"cpu\":\n",
    "    print(\"CPU is allocated.\")\n",
    "else:\n",
    "    print(\"GPU is allocated.\")"
   ]
  },
  {
   "cell_type": "markdown",
   "metadata": {},
   "source": [
    "### Dataloader\n",
    "- For each of the title in the csv, when the image exist, read it and apply transformations (like converting to tensors)\n",
    "- When the post does not have an associated image, use a black image\n",
    "- Dynamically store the images depending on how many images are in the folder and stack them. The dataloader will work with any arbitrary number of images and thus no need to modify the loading when more images are incorporated"
   ]
  },
  {
   "cell_type": "code",
   "execution_count": 19,
   "metadata": {},
   "outputs": [],
   "source": [
    "# Custom dataset class\n",
    "class MultiModalDataset(torch.utils.data.Dataset):\n",
    "    def __init__(self, df, image_folder, tokenizer, transform):\n",
    "        self.df = df\n",
    "        self.image_folder = image_folder\n",
    "        self.tokenizer = tokenizer\n",
    "        self.transform = transform\n",
    "\n",
    "    def __len__(self):\n",
    "        return len(self.df)\n",
    "\n",
    "    def __getitem__(self, idx):\n",
    "        row = self.df.iloc[idx]\n",
    "        #pdb.set_trace()\n",
    "        text, post_id, labels = row[\"title\"], row[\"id\"], row[\"labels\"]\n",
    "        labels = torch.tensor(labels, dtype=torch.long)\n",
    "\n",
    "        images_path = os.path.join(self.image_folder, post_id)\n",
    "        if os.path.exists(images_path):\n",
    "            image_files = os.listdir(images_path)\n",
    "            images = [Image.open(os.path.join(images_path, img)) for img in image_files]\n",
    "        else:\n",
    "            images = [Image.new(\"RGB\", (224, 224), \"black\")]\n",
    "            \n",
    "        inputs = self.tokenizer(text, return_tensors=\"pt\", padding=\"max_length\", truncation=True)\n",
    "        images = [self.transform(img) for img in images]\n",
    "        images_tensor = torch.stack(images)\n",
    "        sample = {'text': inputs, 'images': images_tensor, 'labels': labels}\n",
    "\n",
    "        return sample\n"
   ]
  },
  {
   "cell_type": "markdown",
   "metadata": {},
   "source": [
    "### Data Augmentation"
   ]
  },
  {
   "cell_type": "code",
   "execution_count": 20,
   "metadata": {},
   "outputs": [],
   "source": [
    "# Transform function for image processing (training)\n",
    "# Performing data augmentation by random resizing, cropping\n",
    "# and flipping images in order to artificially create new\n",
    "# image data per training epoch\n",
    "train_transform = transforms.Compose([\n",
    "    transforms.Resize((224, 224)),\n",
    "    transforms.RandomHorizontalFlip(),\n",
    "    transforms.ToTensor(),\n",
    "    transforms.Normalize(\n",
    "        mean=[0.485, 0.456, 0.406],\n",
    "        std=[0.229, 0.224, 0.255]\n",
    "    )\n",
    "])"
   ]
  },
  {
   "cell_type": "code",
   "execution_count": 21,
   "metadata": {},
   "outputs": [],
   "source": [
    "# Just normalization for validation\n",
    "val_transform = transforms.Compose([\n",
    "    transforms.Resize((224, 224)),\n",
    "    transforms.CenterCrop(224),\n",
    "    transforms.ToTensor(),\n",
    "    transforms.Normalize(\n",
    "        mean=[0.485, 0.456, 0.406],\n",
    "        std=[0.229, 0.224, 0.255]\n",
    "    )\n",
    "])"
   ]
  },
  {
   "cell_type": "code",
   "execution_count": 24,
   "metadata": {},
   "outputs": [
    {
     "name": "stdout",
     "output_type": "stream",
     "text": [
      "Wall time: 0 ns\n"
     ]
    }
   ],
   "source": [
    "%%time\n",
    "# Create the dataset\n",
    "BATCH_SIZE = 16\n",
    "\n",
    "\n",
    "train_dataset = MultiModalDataset(df_train, image_path, tokenizer, train_transform )\n",
    "train_dataloader = DataLoader(train_dataset, batch_size=BATCH_SIZE, shuffle=True, num_workers=2, pin_memory=True, prefetch_factor=2)\n",
    "\n",
    "val_dataset = MultiModalDataset(df_val, image_path, tokenizer, train_transform )\n",
    "validate_dataloader = DataLoader(val_dataset, batch_size=BATCH_SIZE, shuffle=False, num_workers=2, pin_memory=True, prefetch_factor=2)\n",
    "\n",
    "test_dataset = MultiModalDataset(df_test, image_path, tokenizer, val_transform )\n",
    "test_dataloader = DataLoader(test_dataset, batch_size=BATCH_SIZE, shuffle=False, num_workers=2, pin_memory=True, prefetch_factor=2)"
   ]
  },
  {
   "cell_type": "markdown",
   "metadata": {},
   "source": [
    "## Model Implementation\n",
    "- The model has the following major components\n",
    "    - Pretrained BERT model for getting embeddings for the title and a pretrained resnet for the image embeddings \n",
    "    - Performs transfer learning based on the pretrained models (BERT and RESNET)\n",
    "    - Tokenization of the title input using transformers\n",
    "    - Cross attention mechanism implemented with 4 attention heads (Increased the number of heads for improvement in performance)\n",
    "        - Each image attents to a title i.e if there are 5 images in the article, they will attent to the same title or text given by id \n",
    "        - For each of the image or if it exists for a certain post, feed in the images and compute cross attention for the image to title attention (each image attenting to the post)\n",
    "        - The attention query in this case is the text (title), key is the image embeddings and value is the image embeddings\n",
    "        - It is flexible enough to take in any number of images per post\n",
    "        - The cross attention output is then averaged \n",
    "     - Additional functionalities like adding batch normalization to the image model layers, ReLU activation function for non linearity and dropout \n",
    "     "
   ]
  },
  {
   "cell_type": "code",
   "execution_count": 25,
   "metadata": {},
   "outputs": [],
   "source": [
    "class MultiModalModel(nn.Module):\n",
    "    def __init__(self, bert, resnet):\n",
    "        super().__init__()\n",
    "        self.bert = bert\n",
    "        self.resnet = resnet\n",
    "        self.drop = nn.Dropout(p=0.3)\n",
    "        \n",
    "        # Defining the attention mechanism for the model\n",
    "        self.image_to_title_attention = nn.MultiheadAttention(bert.config.hidden_size, num_heads=4)  # Increase num_heads\n",
    "        \n",
    "        self.linear = nn.Linear(2048, bert.config.hidden_size)\n",
    "        self.norm = nn.BatchNorm1d(bert.config.hidden_size)\n",
    "        self.relu = nn.ReLU()  # Add ReLU activation\n",
    "        self.hidden = nn.Linear(bert.config.hidden_size, bert.config.hidden_size)  # Add hidden layer\n",
    "        self.classifier = nn.Linear(bert.config.hidden_size, 1)\n",
    "        self.sigmoid = nn.Sigmoid()\n",
    "\n",
    "    def forward(self, inputs, images):\n",
    "        # Process text input\n",
    "        text_output = self.bert(**inputs).last_hidden_state[:, 0, :]\n",
    "\n",
    "        # Process image input\n",
    "        img_embeddings = [self.resnet(img.unsqueeze(0)).view(-1) for img in images]\n",
    "        img_embeddings = torch.stack(img_embeddings)\n",
    "        img_embeddings = self.linear(img_embeddings)\n",
    "        img_embeddings = self.norm(img_embeddings)  # Apply batch normalization\n",
    "        img_embeddings = self.relu(img_embeddings)  # Apply ReLU activation\n",
    "\n",
    "        # Calculate attention between text and each image\n",
    "        attention_outputs = []\n",
    "        for img_emb in img_embeddings:\n",
    "            img_emb = img_emb.view(1, 1, 768)\n",
    "            # text_output.unsqueeze(1).shape (1, batch_size, hidden_size) => (1, 2, 768)\n",
    "            #img_emb.shape => (1, 1, hidden_size)\n",
    "            att_out, _ = self.image_to_title_attention(text_output.unsqueeze(1), img_emb, img_emb)\n",
    "            attention_outputs.append(att_out)\n",
    "\n",
    "        # Average attention outputs\n",
    "        attention_output = torch.stack(attention_outputs).mean(dim=0)\n",
    "\n",
    "        # Classifier\n",
    "        logits = self.hidden(attention_output.squeeze(1))  # Apply hidden layer\n",
    "        logits = self.drop(logits)  # Apply dropout to the hidden layer\n",
    "        logits = self.classifier(logits)\n",
    "        return self.sigmoid(logits)\n",
    "       \n"
   ]
  },
  {
   "cell_type": "markdown",
   "metadata": {},
   "source": [
    "### Model Training Configuration\n",
    "- Computing the class weights for the dataset so that we put different weights on the classes. It will help in class balancing during training"
   ]
  },
  {
   "cell_type": "code",
   "execution_count": 26,
   "metadata": {},
   "outputs": [],
   "source": [
    "def get_class_weights(dataframe):\n",
    "    \n",
    "    # Count labels per class / subtype of Fake News in training set split\n",
    "    # in sorted order 0, 1 and put into label_count list\n",
    "    label_count = [dataframe[\"labels\"].value_counts().sort_index(0)[0],\n",
    "                   dataframe[\"labels\"].value_counts().sort_index(0)[1]]\n",
    "\n",
    "    # Calculate weights per class by subtracting from 1 label_count per class divided\n",
    "    # by sum of all label_counts\n",
    "    class_weights = [1 - (x / sum(label_count)) for x in label_count]\n",
    "\n",
    "    class_weights = torch.FloatTensor(class_weights)\n",
    "    return class_weights"
   ]
  },
  {
   "cell_type": "markdown",
   "metadata": {},
   "source": [
    "# Training Routine\n",
    "- Training routing for the model. Some of the additional techniques applied include clipping the gradients"
   ]
  },
  {
   "cell_type": "code",
   "execution_count": 27,
   "metadata": {},
   "outputs": [],
   "source": [
    "def train_model(model, data_loader, criterion, optimizer, device, num_examples):\n",
    "    print(\"Training model in progress..\")\n",
    "    print(\"-\" * 15)\n",
    "    model = model.train()\n",
    "    train_losses = []\n",
    "    correct_preds = 0\n",
    "    for data in tqdm(data_loader):\n",
    "        inputs = {k: v.squeeze(1).to(device) for k, v in data['text'].items()}\n",
    "        images = data['images'].to(device)\n",
    "        labels = data['labels'].to(device)\n",
    "    \n",
    "        # Forward pass\n",
    "        outputs = model(inputs, images.squeeze(1))\n",
    "        _, preds = torch.max(outputs, dim=1)\n",
    "        train_loss = criterion(outputs.squeeze(), labels.float())\n",
    "        \n",
    "        correct_preds += torch.sum(preds == labels)\n",
    "        train_losses.append(train_loss.item())\n",
    "        train_loss.backward()\n",
    "        nn.utils.clip_grad_norm_(model.parameters(), max_norm=1.0)\n",
    "        optimizer.step()\n",
    "        optimizer.zero_grad()\n",
    "            \n",
    "    # Return train_acc and train_loss values\n",
    "    return correct_preds.double() / num_examples, np.mean(train_losses)\n"
   ]
  },
  {
   "cell_type": "code",
   "execution_count": 28,
   "metadata": {},
   "outputs": [],
   "source": [
    "def evaluate_model(model, data_loader, loss_function, device, num_examples):\n",
    "    print(\"validation of the model in progress...\")\n",
    "    print(\"-\" * 15)\n",
    "    model = model.eval()\n",
    "    val_losses = []\n",
    "    correct_preds = 0\n",
    "    with torch.no_grad():\n",
    "        for data in tqdm(data_loader):\n",
    "            # Move data to the device\n",
    "            inputs = {k: v.squeeze(1).to(device) for k, v in data['text'].items()}\n",
    "            images = data['images'].to(device)\n",
    "            labels = data['labels'].to(device)\n",
    "            \n",
    "            outputs = model(inputs, images.squeeze(1))\n",
    "            \n",
    "            _, preds = torch.max(outputs, dim=1)\n",
    "            \n",
    "            val_loss = loss_function(outputs.squeeze(), labels.float())\n",
    "            correct_preds += torch.sum(preds == labels)\n",
    "            val_losses.append(val_loss.item())\n",
    "    return correct_preds.double() / num_examples, np.mean(val_losses)\n",
    "                "
   ]
  },
  {
   "cell_type": "markdown",
   "metadata": {},
   "source": [
    "### Defining the Model Hyperparameters "
   ]
  },
  {
   "cell_type": "code",
   "execution_count": 29,
   "metadata": {},
   "outputs": [
    {
     "name": "stdout",
     "output_type": "stream",
     "text": [
      "tensor([0.7605, 0.2395])\n"
     ]
    }
   ],
   "source": [
    "# Calculate class weights on basis of training split dataframe and print weight tensor\n",
    "class_weights = get_class_weights(df_train)\n",
    "print(class_weights)"
   ]
  },
  {
   "cell_type": "code",
   "execution_count": 30,
   "metadata": {},
   "outputs": [
    {
     "data": {
      "text/plain": [
       "MultiModalModel(\n",
       "  (bert): BertModel(\n",
       "    (embeddings): BertEmbeddings(\n",
       "      (word_embeddings): Embedding(30522, 768, padding_idx=0)\n",
       "      (position_embeddings): Embedding(512, 768)\n",
       "      (token_type_embeddings): Embedding(2, 768)\n",
       "      (LayerNorm): LayerNorm((768,), eps=1e-12, elementwise_affine=True)\n",
       "      (dropout): Dropout(p=0.1, inplace=False)\n",
       "    )\n",
       "    (encoder): BertEncoder(\n",
       "      (layer): ModuleList(\n",
       "        (0-11): 12 x BertLayer(\n",
       "          (attention): BertAttention(\n",
       "            (self): BertSelfAttention(\n",
       "              (query): Linear(in_features=768, out_features=768, bias=True)\n",
       "              (key): Linear(in_features=768, out_features=768, bias=True)\n",
       "              (value): Linear(in_features=768, out_features=768, bias=True)\n",
       "              (dropout): Dropout(p=0.1, inplace=False)\n",
       "            )\n",
       "            (output): BertSelfOutput(\n",
       "              (dense): Linear(in_features=768, out_features=768, bias=True)\n",
       "              (LayerNorm): LayerNorm((768,), eps=1e-12, elementwise_affine=True)\n",
       "              (dropout): Dropout(p=0.1, inplace=False)\n",
       "            )\n",
       "          )\n",
       "          (intermediate): BertIntermediate(\n",
       "            (dense): Linear(in_features=768, out_features=3072, bias=True)\n",
       "            (intermediate_act_fn): GELUActivation()\n",
       "          )\n",
       "          (output): BertOutput(\n",
       "            (dense): Linear(in_features=3072, out_features=768, bias=True)\n",
       "            (LayerNorm): LayerNorm((768,), eps=1e-12, elementwise_affine=True)\n",
       "            (dropout): Dropout(p=0.1, inplace=False)\n",
       "          )\n",
       "        )\n",
       "      )\n",
       "    )\n",
       "    (pooler): BertPooler(\n",
       "      (dense): Linear(in_features=768, out_features=768, bias=True)\n",
       "      (activation): Tanh()\n",
       "    )\n",
       "  )\n",
       "  (resnet): Sequential(\n",
       "    (0): Conv2d(3, 64, kernel_size=(7, 7), stride=(2, 2), padding=(3, 3), bias=False)\n",
       "    (1): BatchNorm2d(64, eps=1e-05, momentum=0.1, affine=True, track_running_stats=True)\n",
       "    (2): ReLU(inplace=True)\n",
       "    (3): MaxPool2d(kernel_size=3, stride=2, padding=1, dilation=1, ceil_mode=False)\n",
       "    (4): Sequential(\n",
       "      (0): BasicBlock(\n",
       "        (conv1): Conv2d(64, 64, kernel_size=(3, 3), stride=(1, 1), padding=(1, 1), bias=False)\n",
       "        (bn1): BatchNorm2d(64, eps=1e-05, momentum=0.1, affine=True, track_running_stats=True)\n",
       "        (relu): ReLU(inplace=True)\n",
       "        (conv2): Conv2d(64, 64, kernel_size=(3, 3), stride=(1, 1), padding=(1, 1), bias=False)\n",
       "        (bn2): BatchNorm2d(64, eps=1e-05, momentum=0.1, affine=True, track_running_stats=True)\n",
       "      )\n",
       "      (1): BasicBlock(\n",
       "        (conv1): Conv2d(64, 64, kernel_size=(3, 3), stride=(1, 1), padding=(1, 1), bias=False)\n",
       "        (bn1): BatchNorm2d(64, eps=1e-05, momentum=0.1, affine=True, track_running_stats=True)\n",
       "        (relu): ReLU(inplace=True)\n",
       "        (conv2): Conv2d(64, 64, kernel_size=(3, 3), stride=(1, 1), padding=(1, 1), bias=False)\n",
       "        (bn2): BatchNorm2d(64, eps=1e-05, momentum=0.1, affine=True, track_running_stats=True)\n",
       "      )\n",
       "    )\n",
       "    (5): Sequential(\n",
       "      (0): BasicBlock(\n",
       "        (conv1): Conv2d(64, 128, kernel_size=(3, 3), stride=(2, 2), padding=(1, 1), bias=False)\n",
       "        (bn1): BatchNorm2d(128, eps=1e-05, momentum=0.1, affine=True, track_running_stats=True)\n",
       "        (relu): ReLU(inplace=True)\n",
       "        (conv2): Conv2d(128, 128, kernel_size=(3, 3), stride=(1, 1), padding=(1, 1), bias=False)\n",
       "        (bn2): BatchNorm2d(128, eps=1e-05, momentum=0.1, affine=True, track_running_stats=True)\n",
       "        (downsample): Sequential(\n",
       "          (0): Conv2d(64, 128, kernel_size=(1, 1), stride=(2, 2), bias=False)\n",
       "          (1): BatchNorm2d(128, eps=1e-05, momentum=0.1, affine=True, track_running_stats=True)\n",
       "        )\n",
       "      )\n",
       "      (1): BasicBlock(\n",
       "        (conv1): Conv2d(128, 128, kernel_size=(3, 3), stride=(1, 1), padding=(1, 1), bias=False)\n",
       "        (bn1): BatchNorm2d(128, eps=1e-05, momentum=0.1, affine=True, track_running_stats=True)\n",
       "        (relu): ReLU(inplace=True)\n",
       "        (conv2): Conv2d(128, 128, kernel_size=(3, 3), stride=(1, 1), padding=(1, 1), bias=False)\n",
       "        (bn2): BatchNorm2d(128, eps=1e-05, momentum=0.1, affine=True, track_running_stats=True)\n",
       "      )\n",
       "    )\n",
       "    (6): Sequential(\n",
       "      (0): BasicBlock(\n",
       "        (conv1): Conv2d(128, 256, kernel_size=(3, 3), stride=(2, 2), padding=(1, 1), bias=False)\n",
       "        (bn1): BatchNorm2d(256, eps=1e-05, momentum=0.1, affine=True, track_running_stats=True)\n",
       "        (relu): ReLU(inplace=True)\n",
       "        (conv2): Conv2d(256, 256, kernel_size=(3, 3), stride=(1, 1), padding=(1, 1), bias=False)\n",
       "        (bn2): BatchNorm2d(256, eps=1e-05, momentum=0.1, affine=True, track_running_stats=True)\n",
       "        (downsample): Sequential(\n",
       "          (0): Conv2d(128, 256, kernel_size=(1, 1), stride=(2, 2), bias=False)\n",
       "          (1): BatchNorm2d(256, eps=1e-05, momentum=0.1, affine=True, track_running_stats=True)\n",
       "        )\n",
       "      )\n",
       "      (1): BasicBlock(\n",
       "        (conv1): Conv2d(256, 256, kernel_size=(3, 3), stride=(1, 1), padding=(1, 1), bias=False)\n",
       "        (bn1): BatchNorm2d(256, eps=1e-05, momentum=0.1, affine=True, track_running_stats=True)\n",
       "        (relu): ReLU(inplace=True)\n",
       "        (conv2): Conv2d(256, 256, kernel_size=(3, 3), stride=(1, 1), padding=(1, 1), bias=False)\n",
       "        (bn2): BatchNorm2d(256, eps=1e-05, momentum=0.1, affine=True, track_running_stats=True)\n",
       "      )\n",
       "    )\n",
       "    (7): Sequential(\n",
       "      (0): BasicBlock(\n",
       "        (conv1): Conv2d(256, 512, kernel_size=(3, 3), stride=(2, 2), padding=(1, 1), bias=False)\n",
       "        (bn1): BatchNorm2d(512, eps=1e-05, momentum=0.1, affine=True, track_running_stats=True)\n",
       "        (relu): ReLU(inplace=True)\n",
       "        (conv2): Conv2d(512, 512, kernel_size=(3, 3), stride=(1, 1), padding=(1, 1), bias=False)\n",
       "        (bn2): BatchNorm2d(512, eps=1e-05, momentum=0.1, affine=True, track_running_stats=True)\n",
       "        (downsample): Sequential(\n",
       "          (0): Conv2d(256, 512, kernel_size=(1, 1), stride=(2, 2), bias=False)\n",
       "          (1): BatchNorm2d(512, eps=1e-05, momentum=0.1, affine=True, track_running_stats=True)\n",
       "        )\n",
       "      )\n",
       "      (1): BasicBlock(\n",
       "        (conv1): Conv2d(512, 512, kernel_size=(3, 3), stride=(1, 1), padding=(1, 1), bias=False)\n",
       "        (bn1): BatchNorm2d(512, eps=1e-05, momentum=0.1, affine=True, track_running_stats=True)\n",
       "        (relu): ReLU(inplace=True)\n",
       "        (conv2): Conv2d(512, 512, kernel_size=(3, 3), stride=(1, 1), padding=(1, 1), bias=False)\n",
       "        (bn2): BatchNorm2d(512, eps=1e-05, momentum=0.1, affine=True, track_running_stats=True)\n",
       "      )\n",
       "    )\n",
       "    (8): AdaptiveAvgPool2d(output_size=(1, 1))\n",
       "  )\n",
       "  (drop): Dropout(p=0.3, inplace=False)\n",
       "  (image_to_title_attention): MultiheadAttention(\n",
       "    (out_proj): NonDynamicallyQuantizableLinear(in_features=768, out_features=768, bias=True)\n",
       "  )\n",
       "  (linear): Linear(in_features=2048, out_features=768, bias=True)\n",
       "  (norm): BatchNorm1d(768, eps=1e-05, momentum=0.1, affine=True, track_running_stats=True)\n",
       "  (relu): ReLU()\n",
       "  (hidden): Linear(in_features=768, out_features=768, bias=True)\n",
       "  (classifier): Linear(in_features=768, out_features=1, bias=True)\n",
       "  (sigmoid): Sigmoid()\n",
       ")"
      ]
     },
     "execution_count": 30,
     "metadata": {},
     "output_type": "execute_result"
    }
   ],
   "source": [
    "device = torch.device(\"cuda\" if torch.cuda.is_available() else \"cpu\")\n",
    "model = MultiModalModel(bert, resnet)\n",
    "model.to(device)"
   ]
  },
  {
   "cell_type": "code",
   "execution_count": 31,
   "metadata": {},
   "outputs": [],
   "source": [
    "EPOCHS = 40\n",
    "# Initializing weighted Cross Entropy Loss function and assignment to device\n",
    "loss_function = nn.CrossEntropyLoss(weight=class_weights).to(device)\n",
    "# Set up the loss function and optimizer\n",
    "optimizer = optim.Adam(model.parameters(), lr=0.001)\n"
   ]
  },
  {
   "cell_type": "markdown",
   "metadata": {},
   "source": [
    "## Training the model"
   ]
  },
  {
   "cell_type": "code",
   "execution_count": null,
   "metadata": {},
   "outputs": [
    {
     "name": "stdout",
     "output_type": "stream",
     "text": [
      "Epoch 1/10\n",
      "----------\n",
      "Training model in progress..\n",
      "---------------\n"
     ]
    },
    {
     "data": {
      "application/vnd.jupyter.widget-view+json": {
       "model_id": "f51c34cace8b440d8bd04abaa4622912",
       "version_major": 2,
       "version_minor": 0
      },
      "text/plain": [
       "HBox(children=(HTML(value=''), FloatProgress(value=0.0, max=5.0), HTML(value='')))"
      ]
     },
     "metadata": {},
     "output_type": "display_data"
    }
   ],
   "source": [
    "best_accuracy = 0\n",
    "\n",
    "# Iteration times the total number of epochs\n",
    "for epoch in range(EPOCHS):\n",
    "\n",
    "    print(f\"Epoch {epoch + 1}/{EPOCHS}\")\n",
    "    print(\"-\" * 10)\n",
    "\n",
    "    train_acc, train_loss = train_model(\n",
    "        model,\n",
    "        train_dataloader,\n",
    "        loss_function,\n",
    "        optimizer,\n",
    "        device,\n",
    "        len(df_train)\n",
    "    )\n",
    "    \n",
    "\n",
    "    print(f\"Train loss {train_loss} | Accuracy {train_acc}\")\n",
    "    print()\n",
    "    val_acc, val_loss = evaluate_model(\n",
    "            model,\n",
    "            validate_dataloader,\n",
    "            loss_function,\n",
    "            device,\n",
    "            len(df_val)\n",
    "    )\n",
    "\n",
    "    print(f\"Val   loss {val_loss} | Accuracy {val_acc}\")\n",
    "    print()\n",
    "\n",
    "print()\n",
    "print(\"Completed Training!\")\n",
    "print(\"-\" * 20)"
   ]
  },
  {
   "cell_type": "markdown",
   "metadata": {},
   "source": [
    "### Plotting the output results"
   ]
  },
  {
   "cell_type": "code",
   "execution_count": null,
   "metadata": {},
   "outputs": [],
   "source": [
    "# Plotting training and validation accuracy curves across the epochs\n",
    "plt.plot(train_acc, color=\"green\", label=\"Training Accuracy\")\n",
    "plt.plot(val_acc, color=\"red\", label=\"Validation Accuracy\")\n",
    "\n",
    "plt.title(\"Training History\")\n",
    "# Defining x- and y-axis labels\n",
    "plt.ylabel(\"Accuracy\")\n",
    "plt.xlabel(\"Epochs\")\n",
    "plt.legend()\n",
    "plt.show()"
   ]
  },
  {
   "cell_type": "code",
   "execution_count": null,
   "metadata": {},
   "outputs": [],
   "source": [
    "plt.plot(train_loss, color=\"blue\", label=\"Training Loss\")\n",
    "plt.plot(val_loss, color=\"orange\", label=\"Validation Loss\")\n",
    "plt.title(\"Training History\")\n",
    "plt.ylabel(\"Cross Entropy Loss\")\n",
    "plt.xlabel(\"Epochs\")\n",
    "plt.legend()\n",
    "plt.show()"
   ]
  },
  {
   "cell_type": "markdown",
   "metadata": {},
   "source": [
    "## Testing the models "
   ]
  },
  {
   "cell_type": "code",
   "execution_count": null,
   "metadata": {},
   "outputs": [],
   "source": [
    "def test_model(model, data_loader, loss_function, device, num_examples):\n",
    "    print(\"Testing model in progress...\")\n",
    "    print(\"-\" * 15)\n",
    "    model.eval()\n",
    "    test_losses = []\n",
    "    correct_preds = 0\n",
    "    predictions = []\n",
    "    prediction_probs = []\n",
    "    real_labels = []\n",
    "\n",
    "    with torch.no_grad():\n",
    "        for data in tqdm(data_loader):\n",
    "            inputs = {k: v.squeeze(1).to(device) for k, v in data['text'].items()}\n",
    "            images = data['images'].to(device)\n",
    "            labels = data['labels'].to(device)\n",
    "            \n",
    "            outputs = model(inputs, images.squeeze(1))\n",
    "            _, preds = torch.max(outputs, dim=1)\n",
    "            test_loss = loss_function(outputs.squeeze(), labels.float())\n",
    "            correct_preds += torch.sum(preds == labels)\n",
    "            test_losses.append(test_loss.item())\n",
    "            predictions.extend(preds)\n",
    "            prediction_probs.extend(outputs)\n",
    "            real_labels.extend(labels)\n",
    "    test_acc = correct_preds.double() / num_examples\n",
    "    test_loss = np.mean(test_losses)\n",
    "    predictions = torch.stack(predictions)\n",
    "    prediction_probs = torch.stack(prediction_probs)\n",
    "    real_labels = torch.stack(real_labels)\n",
    "    \n",
    "    # Return test_acc, test_loss, predictions, prediction_probs, real_labels\n",
    "    return test_acc, test_loss, predictions, prediction_probs, real_labels"
   ]
  },
  {
   "cell_type": "code",
   "execution_count": null,
   "metadata": {},
   "outputs": [],
   "source": [
    "# Testing model on test data split and initilaizing test values\n",
    "test_acc, test_loss, y_preds, y_prediction_probs, y_test = test_model(\n",
    "    model,\n",
    "    test_dataloader,\n",
    "    loss_function,\n",
    "    device,\n",
    "    len(df_test)\n",
    ")\n",
    "\n"
   ]
  },
  {
   "cell_type": "code",
   "execution_count": null,
   "metadata": {},
   "outputs": [],
   "source": [
    "# Printing model test accuracy\n",
    "print(f\"Model testing accuracy for classifier:  {test_acc*100}%\")"
   ]
  },
  {
   "cell_type": "code",
   "execution_count": null,
   "metadata": {},
   "outputs": [],
   "source": [
    "\n",
    "from sklearn.metrics import confusion_matrix, classification_report, f1_score, precision_score, recall_score, roc_auc_score, auc"
   ]
  },
  {
   "cell_type": "code",
   "execution_count": null,
   "metadata": {},
   "outputs": [],
   "source": [
    "# Plotting classification report\n",
    "print(classification_report(y_test.cpu(), y_preds.cpu(), target_names=CLASS_NAMES))"
   ]
  },
  {
   "cell_type": "code",
   "execution_count": null,
   "metadata": {},
   "outputs": [],
   "source": [
    "# or individual evaluations of the results\n",
    "print(\"f1 score is: \", f1_score(y_test.cpu(), y_preds.cpu(), average='macro'))\n",
    "print(\"precision score is: \", precision_score(y_test.cpu(), y_preds.cpu(), average='macro'))\n",
    "print(\"recall score is: \", recall_score(y_test.cpu(), y_preds.cpu(), average='macro'))\n"
   ]
  },
  {
   "cell_type": "code",
   "execution_count": null,
   "metadata": {},
   "outputs": [],
   "source": [
    "print(\"auc score for the model: \", roc_auc_score(y_test.cpu(), 1 - y_prediction_probs.cpu()[:,1], multi_class=\"ovo\", average=\"macro\"))"
   ]
  },
  {
   "cell_type": "code",
   "execution_count": null,
   "metadata": {},
   "outputs": [],
   "source": [
    "def plot_confusion_matrix(confusion_matrix):\n",
    "    hmap = sns.heatmap(confusion_matrix, annot=True, fmt=\"d\", cmap=\"Purples\")\n",
    "    hmap.yaxis.set_ticklabels(hmap.yaxis.get_ticklabels(), rotation=0, ha=\"right\")\n",
    "    hmap.xaxis.set_ticklabels(hmap.xaxis.get_ticklabels(), rotation=30, ha=\"right\")\n",
    "    # Set x- and y-axis labels\n",
    "    plt.ylabel(\"Fakeddit Dataset Label\")\n",
    "    plt.xlabel(\"Predicted Label\")\n",
    "    plt.title(\"Confusion Matrix for the model\")\n",
    "    plt.tight_layout\n",
    "    plt.show()\n",
    "\n",
    "# Initialize confusion_matrix with y_test (ground truth labels) and predicted labels\n",
    "cm = confusion_matrix(y_test.cpu(), y_preds.cpu())\n",
    "df_cm = pd.DataFrame(cm, index=CLASS_NAMES, columns=CLASS_NAMES)\n",
    "plot_confusion_matrix(df_cm)\n"
   ]
  },
  {
   "cell_type": "markdown",
   "metadata": {},
   "source": [
    "## Plotting AUC and ROC score for the models"
   ]
  },
  {
   "cell_type": "code",
   "execution_count": null,
   "metadata": {},
   "outputs": [],
   "source": [
    "#create ROC curve\n",
    "def plot_auc(y_test, y_pred_proba):\n",
    "    fpr, tpr, _ = metrics.roc_curve(y_test,  1 - y_pred_proba[:,1])\n",
    "    plt.plot(fpr,tpr)\n",
    "    plt.ylabel('True Positive Rate')\n",
    "    plt.xlabel('False Positive Rate')\n",
    "    plt.title(\"ROC curve of the model\")\n",
    "    plt.tight_layout\n",
    "    plt.show()"
   ]
  },
  {
   "cell_type": "code",
   "execution_count": null,
   "metadata": {},
   "outputs": [],
   "source": [
    "plot_auc(y_test.cpu(), y_prediction_probs.cpu())"
   ]
  }
 ],
 "metadata": {
  "kernelspec": {
   "display_name": "Python 3",
   "language": "python",
   "name": "python3"
  },
  "language_info": {
   "codemirror_mode": {
    "name": "ipython",
    "version": 3
   },
   "file_extension": ".py",
   "mimetype": "text/x-python",
   "name": "python",
   "nbconvert_exporter": "python",
   "pygments_lexer": "ipython3",
   "version": "3.8.5"
  }
 },
 "nbformat": 4,
 "nbformat_minor": 4
}
