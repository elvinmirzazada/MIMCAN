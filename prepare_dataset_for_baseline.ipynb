{
 "cells": [
  {
   "cell_type": "code",
   "execution_count": 15,
   "metadata": {
    "collapsed": true
   },
   "outputs": [],
   "source": [
    "import os\n",
    "import shutil\n",
    "import pandas as pd"
   ]
  },
  {
   "cell_type": "code",
   "execution_count": 21,
   "outputs": [],
   "source": [
    "path_images = 'politifact/images'\n",
    "\n",
    "politifact_fake = pd.read_csv('datasets/politifact_fake.csv')\n",
    "politifact_real = pd.read_csv('datasets/politifact_real.csv')\n",
    "politifact_real = politifact_real.dropna(subset=['news_url'])\n",
    "politifact_fake = politifact_fake.dropna(subset=['news_url'])"
   ],
   "metadata": {
    "collapsed": false
   }
  },
  {
   "cell_type": "code",
   "execution_count": 22,
   "outputs": [],
   "source": [
    "politifact_real.head()"
   ],
   "metadata": {
    "collapsed": false
   }
  },
  {
   "cell_type": "code",
   "execution_count": 23,
   "outputs": [],
   "source": [
    "save_path = 'politifact_images'\n",
    "fake_src_directory = '/home/elvin/elvin/UT Courses/THESIS/SOURCE CODES/MIMCAN/politifact/fake'\n",
    "real_src_directory = '/home/elvin/elvin/UT Courses/THESIS/SOURCE CODES/MIMCAN/politifact/real'\n",
    "dst_directory = '/home/elvin/elvin/UT Courses/THESIS/SOURCE CODES/MIMCAN/politifact_images'"
   ],
   "metadata": {
    "collapsed": false
   }
  },
  {
   "cell_type": "code",
   "execution_count": 24,
   "outputs": [],
   "source": [
    "with open(os.getcwd()+'/politifact_news_data.txt', 'a') as fl:\n",
    "    for fake in politifact_fake.values:\n",
    "        im_list = []\n",
    "        img_dir = fake_src_directory+f\"/{fake[0]}\"\n",
    "        if os.path.exists(img_dir):\n",
    "            i = 1\n",
    "            for file in os.listdir(img_dir):\n",
    "                if \".png\" in file:\n",
    "                    src_file = os.path.join(img_dir, f\"{i}.png\")\n",
    "                    dest_file_name = f\"fake_{fake[0]}_{i}.png\"\n",
    "                    i+=1\n",
    "                    dest_file = os.path.join(dst_directory, dest_file_name)\n",
    "                    try:\n",
    "                        im_list.append(dest_file_name)\n",
    "                        shutil.copyfile(src_file, dest_file)\n",
    "                    except:\n",
    "                        pass\n",
    "            if os.listdir(img_dir):\n",
    "                fl.write(f'fake_{fake[0]}\\t{fake[2]}\\t{\" \".join(im_list)}\\n')"
   ],
   "metadata": {
    "collapsed": false
   }
  },
  {
   "cell_type": "code",
   "execution_count": 25,
   "outputs": [],
   "source": [
    "with open(os.getcwd()+'/politifact_news_data.txt', 'a') as fl:\n",
    "    for real in politifact_real.values:\n",
    "        im_list = []\n",
    "        img_dir = real_src_directory+f\"/{real[0]}\"\n",
    "        if os.path.exists(img_dir):\n",
    "            i = 1\n",
    "            for file in os.listdir(img_dir):\n",
    "                if \".png\" in file:\n",
    "                    src_file = os.path.join(img_dir, f\"{i}.png\")\n",
    "                    dest_file_name = f\"real_{real[0]}_{i}.png\"\n",
    "                    i+=1\n",
    "                    dest_file = os.path.join(dst_directory, dest_file_name)\n",
    "                    try:\n",
    "                        im_list.append(dest_file_name)\n",
    "                        shutil.copyfile(src_file, dest_file)\n",
    "                    except:\n",
    "                        pass\n",
    "            if os.listdir(img_dir):\n",
    "                fl.write(f'real_{real[0]}\\t{real[2]}\\t{\" \".join(im_list)}\\n')\n"
   ],
   "metadata": {
    "collapsed": false
   }
  },
  {
   "cell_type": "code",
   "execution_count": null,
   "outputs": [],
   "source": [],
   "metadata": {
    "collapsed": false
   }
  }
 ],
 "metadata": {
  "kernelspec": {
   "display_name": "Python 3",
   "language": "python",
   "name": "python3"
  },
  "language_info": {
   "codemirror_mode": {
    "name": "ipython",
    "version": 2
   },
   "file_extension": ".py",
   "mimetype": "text/x-python",
   "name": "python",
   "nbconvert_exporter": "python",
   "pygments_lexer": "ipython2",
   "version": "2.7.6"
  }
 },
 "nbformat": 4,
 "nbformat_minor": 0
}
